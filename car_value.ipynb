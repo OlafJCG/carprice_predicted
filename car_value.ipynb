{
 "cells": [
  {
   "cell_type": "markdown",
   "metadata": {},
   "source": [
    "  # Rusty Bargain\n",
    "\n",
    "\n",
    "\n",
    "  El servicio de venta de autos usados Rusty Bargain está desarrollando una aplicación para atraer nuevos clientes. Gracias a esa app, puedes averiguar rápidamente el valor de mercado de tu coche. Tienes acceso al historial: especificaciones técnicas, versiones de equipamiento y precios. Tienes que crear un modelo que determine el valor de mercado.\n",
    "\n",
    "\n",
    "\n",
    "  A Rusty Bargain le interesa:\n",
    "\n",
    "\n",
    "\n",
    "  - la calidad de la predicción;\n",
    "\n",
    "\n",
    "\n",
    "  - la velocidad de la predicción;\n",
    "\n",
    "\n",
    "\n",
    "  - el tiempo requerido para el entrenamiento"
   ]
  },
  {
   "cell_type": "code",
   "execution_count": 3,
   "metadata": {},
   "outputs": [],
   "source": [
    "# Importa librerías necesarias\n",
    "import pandas as pd\n",
    "import re\n",
    "import numpy as np\n",
    "import math\n",
    "from category_encoders import BinaryEncoder\n",
    "from sklearn.preprocessing import OrdinalEncoder, RobustScaler\n",
    "from matplotlib import pyplot as plt\n",
    "import seaborn as sns\n",
    "from sklearn.model_selection import train_test_split, GridSearchCV\n",
    "from sklearn.linear_model import LinearRegression\n",
    "from sklearn.metrics import mean_squared_error\n",
    "from sklearn.ensemble import RandomForestRegressor\n",
    "from catboost import CatBoostRegressor\n",
    "import lightgbm as lgb\n",
    "from xgboost import XGBRegressor\n"
   ]
  },
  {
   "cell_type": "markdown",
   "metadata": {},
   "source": [
    "  ## Carga los datos"
   ]
  },
  {
   "cell_type": "code",
   "execution_count": 4,
   "metadata": {},
   "outputs": [],
   "source": [
    "# Guarda el conjunto de datos en una variable\n",
    "df = pd.read_csv(\"datasets/autos.csv\")\n"
   ]
  },
  {
   "cell_type": "markdown",
   "metadata": {},
   "source": [
    "  ## Funciones"
   ]
  },
  {
   "cell_type": "code",
   "execution_count": 5,
   "metadata": {},
   "outputs": [],
   "source": [
    "\n",
    "def traza_plots_condicionados (columna, columna_nombre):\n",
    "    \"\"\"\n",
    "    Función que recibe un series (columna) y traza un plot dependiendo de la cantidad de valores únicos en la columna.\n",
    "    Si la columna tiene más de 10 valores únicos traza un boxplot, si no un histograma.\n",
    "    \"\"\"\n",
    "    if columna.nunique() < 10:\n",
    "        plt.bar(columna.unique(),columna.value_counts())\n",
    "        plt.xticks(columna.unique())\n",
    "        plt.title(f'Gráfico de barras de {columna_nombre}.')\n",
    "        plt.xlabel(f'{columna_nombre}.')\n",
    "        plt.ylabel('Cantidad.')\n",
    "        plt.show()\n",
    "    else:\n",
    "        plt.boxplot(columna, columna_nombre)\n",
    "        plt.title(f'Boxplot de la distribución de {columna_nombre}.')\n",
    "        plt.xlabel(f'{columna_nombre}.')\n",
    "        plt.ylabel('Cantidad.')\n",
    "        plt.show()\n",
    "\n",
    "def split_camel_dromedary(string, case):\n",
    "    \"\"\"\n",
    "    Función que aplica un split a una cadena en camel o dromedary case.\n",
    "    \"\"\"\n",
    "    if case == 'camel':\n",
    "        # Split camel case\n",
    "        return re.findall(r'[A-Z](?:[a-z]+|[A-Z]*(?=[A-Z]|$))', string)\n",
    "        \n",
    "    elif case == 'dromedary':\n",
    "        # Split dromedary case\n",
    "        return re.findall(r'[A-Z]?[a-z]+|[A-Z]+(?=[A-Z]|$)', string)\n",
    "\n",
    "def IQR_calc (df, column, ):\n",
    "    Q1 = df[column].quantile(0.25)\n",
    "    Q3 = df[column].quantile(0.75)\n",
    "    IQR = Q3 - Q1\n",
    "    return (Q3 + (1.5*IQR)), (Q1 - (1.5*IQR))\n",
    "\n",
    "   "
   ]
  },
  {
   "cell_type": "markdown",
   "metadata": {},
   "source": [
    "  ## Visualiza los datos"
   ]
  },
  {
   "cell_type": "code",
   "execution_count": 6,
   "metadata": {},
   "outputs": [
    {
     "name": "stdout",
     "output_type": "stream",
     "text": [
      "<class 'pandas.core.frame.DataFrame'>\n",
      "RangeIndex: 354369 entries, 0 to 354368\n",
      "Data columns (total 16 columns):\n",
      " #   Column             Non-Null Count   Dtype \n",
      "---  ------             --------------   ----- \n",
      " 0   DateCrawled        354369 non-null  object\n",
      " 1   Price              354369 non-null  int64 \n",
      " 2   VehicleType        316879 non-null  object\n",
      " 3   RegistrationYear   354369 non-null  int64 \n",
      " 4   Gearbox            334536 non-null  object\n",
      " 5   Power              354369 non-null  int64 \n",
      " 6   Model              334664 non-null  object\n",
      " 7   Kilometer          354369 non-null  int64 \n",
      " 8   RegistrationMonth  354369 non-null  int64 \n",
      " 9   FuelType           321474 non-null  object\n",
      " 10  Brand              354369 non-null  object\n",
      " 11  Repaired           283215 non-null  object\n",
      " 12  DateCreated        354369 non-null  object\n",
      " 13  NumberOfPictures   354369 non-null  int64 \n",
      " 14  PostalCode         354369 non-null  int64 \n",
      " 15  LastSeen           354369 non-null  object\n",
      "dtypes: int64(7), object(9)\n",
      "memory usage: 43.3+ MB\n"
     ]
    }
   ],
   "source": [
    "# Muestra la información general del conjunto de datos\n",
    "df.info()"
   ]
  },
  {
   "cell_type": "code",
   "execution_count": 7,
   "metadata": {},
   "outputs": [
    {
     "data": {
      "text/html": [
       "<div>\n",
       "<style scoped>\n",
       "    .dataframe tbody tr th:only-of-type {\n",
       "        vertical-align: middle;\n",
       "    }\n",
       "\n",
       "    .dataframe tbody tr th {\n",
       "        vertical-align: top;\n",
       "    }\n",
       "\n",
       "    .dataframe thead th {\n",
       "        text-align: right;\n",
       "    }\n",
       "</style>\n",
       "<table border=\"1\" class=\"dataframe\">\n",
       "  <thead>\n",
       "    <tr style=\"text-align: right;\">\n",
       "      <th></th>\n",
       "      <th>DateCrawled</th>\n",
       "      <th>Price</th>\n",
       "      <th>VehicleType</th>\n",
       "      <th>RegistrationYear</th>\n",
       "      <th>Gearbox</th>\n",
       "      <th>Power</th>\n",
       "      <th>Model</th>\n",
       "      <th>Kilometer</th>\n",
       "      <th>RegistrationMonth</th>\n",
       "      <th>FuelType</th>\n",
       "      <th>Brand</th>\n",
       "      <th>Repaired</th>\n",
       "      <th>DateCreated</th>\n",
       "      <th>NumberOfPictures</th>\n",
       "      <th>PostalCode</th>\n",
       "      <th>LastSeen</th>\n",
       "    </tr>\n",
       "  </thead>\n",
       "  <tbody>\n",
       "    <tr>\n",
       "      <th>195491</th>\n",
       "      <td>2016-04-02 19:50:42</td>\n",
       "      <td>300</td>\n",
       "      <td>sedan</td>\n",
       "      <td>1993</td>\n",
       "      <td>manual</td>\n",
       "      <td>75</td>\n",
       "      <td>golf</td>\n",
       "      <td>150000</td>\n",
       "      <td>10</td>\n",
       "      <td>petrol</td>\n",
       "      <td>volkswagen</td>\n",
       "      <td>NaN</td>\n",
       "      <td>2016-04-02 00:00:00</td>\n",
       "      <td>0</td>\n",
       "      <td>58730</td>\n",
       "      <td>2016-04-06 20:17:14</td>\n",
       "    </tr>\n",
       "    <tr>\n",
       "      <th>226969</th>\n",
       "      <td>2016-03-16 15:52:41</td>\n",
       "      <td>4500</td>\n",
       "      <td>small</td>\n",
       "      <td>2009</td>\n",
       "      <td>manual</td>\n",
       "      <td>75</td>\n",
       "      <td>sandero</td>\n",
       "      <td>50000</td>\n",
       "      <td>10</td>\n",
       "      <td>petrol</td>\n",
       "      <td>dacia</td>\n",
       "      <td>no</td>\n",
       "      <td>2016-03-16 00:00:00</td>\n",
       "      <td>0</td>\n",
       "      <td>36404</td>\n",
       "      <td>2016-03-23 04:56:38</td>\n",
       "    </tr>\n",
       "    <tr>\n",
       "      <th>311854</th>\n",
       "      <td>2016-03-18 20:47:27</td>\n",
       "      <td>6400</td>\n",
       "      <td>sedan</td>\n",
       "      <td>2006</td>\n",
       "      <td>manual</td>\n",
       "      <td>116</td>\n",
       "      <td>golf</td>\n",
       "      <td>100000</td>\n",
       "      <td>5</td>\n",
       "      <td>petrol</td>\n",
       "      <td>volkswagen</td>\n",
       "      <td>no</td>\n",
       "      <td>2016-03-18 00:00:00</td>\n",
       "      <td>0</td>\n",
       "      <td>75365</td>\n",
       "      <td>2016-03-26 11:45:31</td>\n",
       "    </tr>\n",
       "    <tr>\n",
       "      <th>271704</th>\n",
       "      <td>2016-04-01 17:39:18</td>\n",
       "      <td>600</td>\n",
       "      <td>NaN</td>\n",
       "      <td>2016</td>\n",
       "      <td>manual</td>\n",
       "      <td>54</td>\n",
       "      <td>other</td>\n",
       "      <td>150000</td>\n",
       "      <td>2</td>\n",
       "      <td>gasoline</td>\n",
       "      <td>citroen</td>\n",
       "      <td>no</td>\n",
       "      <td>2016-04-01 00:00:00</td>\n",
       "      <td>0</td>\n",
       "      <td>66352</td>\n",
       "      <td>2016-04-05 12:46:14</td>\n",
       "    </tr>\n",
       "    <tr>\n",
       "      <th>110691</th>\n",
       "      <td>2016-04-02 20:50:55</td>\n",
       "      <td>3200</td>\n",
       "      <td>wagon</td>\n",
       "      <td>2001</td>\n",
       "      <td>manual</td>\n",
       "      <td>136</td>\n",
       "      <td>3er</td>\n",
       "      <td>150000</td>\n",
       "      <td>0</td>\n",
       "      <td>NaN</td>\n",
       "      <td>bmw</td>\n",
       "      <td>no</td>\n",
       "      <td>2016-04-02 00:00:00</td>\n",
       "      <td>0</td>\n",
       "      <td>6556</td>\n",
       "      <td>2016-04-06 21:44:30</td>\n",
       "    </tr>\n",
       "  </tbody>\n",
       "</table>\n",
       "</div>"
      ],
      "text/plain": [
       "                DateCrawled  Price VehicleType  RegistrationYear Gearbox  \\\n",
       "195491  2016-04-02 19:50:42    300       sedan              1993  manual   \n",
       "226969  2016-03-16 15:52:41   4500       small              2009  manual   \n",
       "311854  2016-03-18 20:47:27   6400       sedan              2006  manual   \n",
       "271704  2016-04-01 17:39:18    600         NaN              2016  manual   \n",
       "110691  2016-04-02 20:50:55   3200       wagon              2001  manual   \n",
       "\n",
       "        Power    Model  Kilometer  RegistrationMonth  FuelType       Brand  \\\n",
       "195491     75     golf     150000                 10    petrol  volkswagen   \n",
       "226969     75  sandero      50000                 10    petrol       dacia   \n",
       "311854    116     golf     100000                  5    petrol  volkswagen   \n",
       "271704     54    other     150000                  2  gasoline     citroen   \n",
       "110691    136      3er     150000                  0       NaN         bmw   \n",
       "\n",
       "       Repaired          DateCreated  NumberOfPictures  PostalCode  \\\n",
       "195491      NaN  2016-04-02 00:00:00                 0       58730   \n",
       "226969       no  2016-03-16 00:00:00                 0       36404   \n",
       "311854       no  2016-03-18 00:00:00                 0       75365   \n",
       "271704       no  2016-04-01 00:00:00                 0       66352   \n",
       "110691       no  2016-04-02 00:00:00                 0        6556   \n",
       "\n",
       "                   LastSeen  \n",
       "195491  2016-04-06 20:17:14  \n",
       "226969  2016-03-23 04:56:38  \n",
       "311854  2016-03-26 11:45:31  \n",
       "271704  2016-04-05 12:46:14  \n",
       "110691  2016-04-06 21:44:30  "
      ]
     },
     "execution_count": 7,
     "metadata": {},
     "output_type": "execute_result"
    }
   ],
   "source": [
    "# Imprime una muestra de los datos\n",
    "df.sample(5)"
   ]
  },
  {
   "cell_type": "code",
   "execution_count": 8,
   "metadata": {},
   "outputs": [
    {
     "data": {
      "text/html": [
       "<div>\n",
       "<style scoped>\n",
       "    .dataframe tbody tr th:only-of-type {\n",
       "        vertical-align: middle;\n",
       "    }\n",
       "\n",
       "    .dataframe tbody tr th {\n",
       "        vertical-align: top;\n",
       "    }\n",
       "\n",
       "    .dataframe thead th {\n",
       "        text-align: right;\n",
       "    }\n",
       "</style>\n",
       "<table border=\"1\" class=\"dataframe\">\n",
       "  <thead>\n",
       "    <tr style=\"text-align: right;\">\n",
       "      <th></th>\n",
       "      <th>Price</th>\n",
       "      <th>RegistrationYear</th>\n",
       "      <th>Power</th>\n",
       "      <th>Kilometer</th>\n",
       "      <th>RegistrationMonth</th>\n",
       "      <th>NumberOfPictures</th>\n",
       "      <th>PostalCode</th>\n",
       "    </tr>\n",
       "  </thead>\n",
       "  <tbody>\n",
       "    <tr>\n",
       "      <th>count</th>\n",
       "      <td>354369.000000</td>\n",
       "      <td>354369.000000</td>\n",
       "      <td>354369.000000</td>\n",
       "      <td>354369.000000</td>\n",
       "      <td>354369.000000</td>\n",
       "      <td>354369.0</td>\n",
       "      <td>354369.000000</td>\n",
       "    </tr>\n",
       "    <tr>\n",
       "      <th>mean</th>\n",
       "      <td>4416.656776</td>\n",
       "      <td>2004.234448</td>\n",
       "      <td>110.094337</td>\n",
       "      <td>128211.172535</td>\n",
       "      <td>5.714645</td>\n",
       "      <td>0.0</td>\n",
       "      <td>50508.689087</td>\n",
       "    </tr>\n",
       "    <tr>\n",
       "      <th>std</th>\n",
       "      <td>4514.158514</td>\n",
       "      <td>90.227958</td>\n",
       "      <td>189.850405</td>\n",
       "      <td>37905.341530</td>\n",
       "      <td>3.726421</td>\n",
       "      <td>0.0</td>\n",
       "      <td>25783.096248</td>\n",
       "    </tr>\n",
       "    <tr>\n",
       "      <th>min</th>\n",
       "      <td>0.000000</td>\n",
       "      <td>1000.000000</td>\n",
       "      <td>0.000000</td>\n",
       "      <td>5000.000000</td>\n",
       "      <td>0.000000</td>\n",
       "      <td>0.0</td>\n",
       "      <td>1067.000000</td>\n",
       "    </tr>\n",
       "    <tr>\n",
       "      <th>25%</th>\n",
       "      <td>1050.000000</td>\n",
       "      <td>1999.000000</td>\n",
       "      <td>69.000000</td>\n",
       "      <td>125000.000000</td>\n",
       "      <td>3.000000</td>\n",
       "      <td>0.0</td>\n",
       "      <td>30165.000000</td>\n",
       "    </tr>\n",
       "    <tr>\n",
       "      <th>50%</th>\n",
       "      <td>2700.000000</td>\n",
       "      <td>2003.000000</td>\n",
       "      <td>105.000000</td>\n",
       "      <td>150000.000000</td>\n",
       "      <td>6.000000</td>\n",
       "      <td>0.0</td>\n",
       "      <td>49413.000000</td>\n",
       "    </tr>\n",
       "    <tr>\n",
       "      <th>75%</th>\n",
       "      <td>6400.000000</td>\n",
       "      <td>2008.000000</td>\n",
       "      <td>143.000000</td>\n",
       "      <td>150000.000000</td>\n",
       "      <td>9.000000</td>\n",
       "      <td>0.0</td>\n",
       "      <td>71083.000000</td>\n",
       "    </tr>\n",
       "    <tr>\n",
       "      <th>max</th>\n",
       "      <td>20000.000000</td>\n",
       "      <td>9999.000000</td>\n",
       "      <td>20000.000000</td>\n",
       "      <td>150000.000000</td>\n",
       "      <td>12.000000</td>\n",
       "      <td>0.0</td>\n",
       "      <td>99998.000000</td>\n",
       "    </tr>\n",
       "  </tbody>\n",
       "</table>\n",
       "</div>"
      ],
      "text/plain": [
       "               Price  RegistrationYear          Power      Kilometer  \\\n",
       "count  354369.000000     354369.000000  354369.000000  354369.000000   \n",
       "mean     4416.656776       2004.234448     110.094337  128211.172535   \n",
       "std      4514.158514         90.227958     189.850405   37905.341530   \n",
       "min         0.000000       1000.000000       0.000000    5000.000000   \n",
       "25%      1050.000000       1999.000000      69.000000  125000.000000   \n",
       "50%      2700.000000       2003.000000     105.000000  150000.000000   \n",
       "75%      6400.000000       2008.000000     143.000000  150000.000000   \n",
       "max     20000.000000       9999.000000   20000.000000  150000.000000   \n",
       "\n",
       "       RegistrationMonth  NumberOfPictures     PostalCode  \n",
       "count      354369.000000          354369.0  354369.000000  \n",
       "mean            5.714645               0.0   50508.689087  \n",
       "std             3.726421               0.0   25783.096248  \n",
       "min             0.000000               0.0    1067.000000  \n",
       "25%             3.000000               0.0   30165.000000  \n",
       "50%             6.000000               0.0   49413.000000  \n",
       "75%             9.000000               0.0   71083.000000  \n",
       "max            12.000000               0.0   99998.000000  "
      ]
     },
     "execution_count": 8,
     "metadata": {},
     "output_type": "execute_result"
    }
   ],
   "source": [
    "# Revisa la distribución de columnas con datos numéricos.\n",
    "df.describe()\n"
   ]
  },
  {
   "cell_type": "markdown",
   "metadata": {},
   "source": [
    "  ### Comentarios.\n",
    "\n",
    "\n",
    "\n",
    "  - Las columnas 0, 8, 12, 13, 14, 15 no las ocupamos.\n",
    "\n",
    "\n",
    "\n",
    "  - Cambia los nombres de las columnas para un mejor manejo.\n",
    "\n",
    "\n",
    "\n",
    "  - Revisa el porcentaje de registros que tengan la columna \"model\" y \"vehicle_type\" con nan y de las columnas que tengan nulos o datos anomalos.\n",
    "\n",
    "\n",
    "\n",
    "  - Elimina la columna \"number_of_pictures\""
   ]
  },
  {
   "cell_type": "markdown",
   "metadata": {},
   "source": [
    "  ## Preparación de datos\n",
    "\n",
    "  ### Arregla los datos (primer parte)."
   ]
  },
  {
   "cell_type": "code",
   "execution_count": 9,
   "metadata": {},
   "outputs": [],
   "source": [
    "# Elimina las columnas 0, 8, 12, 13, 14, 15 son fechas y características que no son necesarias para nuestra tarea.\n",
    "df = df.drop(df.columns[[0,8,12,13,14,15]], axis=1)\n",
    "# Cambia los nombres de tipo camel o snake y lower\n",
    "df.columns = pd.Series(df.columns).apply(lambda x: '_'.join(split_camel_dromedary(x, 'camel')).lower())\n",
    "df.rename(columns={'not_repaired':'repaired'},inplace=True)"
   ]
  },
  {
   "cell_type": "markdown",
   "metadata": {},
   "source": [
    "  ### Análisis exploratorio (primer parte)."
   ]
  },
  {
   "cell_type": "code",
   "execution_count": 10,
   "metadata": {},
   "outputs": [],
   "source": [
    "nombres_columnas = ['Precio','Tipo de vehículo', 'Año de matriculación', 'Caja de cambios', 'Potencia (CV)', 'Modelo', 'Kilometraje', 'Tipo de combustible', 'Marca', 'Reparado', 'Código postal']\n",
    "numeric_cols_names = ['price', 'registration_year', 'power', 'kilometer', 'number_of_pictures', 'postal_code']\n",
    "numeric_cols_index = [0,2,4,6,7,11]\n",
    "categorical_cols_index = [1,3,5,7,9,10,11]"
   ]
  },
  {
   "cell_type": "code",
   "execution_count": 11,
   "metadata": {},
   "outputs": [
    {
     "name": "stdout",
     "output_type": "stream",
     "text": [
      "vehicle_type:\n",
      " ['bus' 'convertible' 'coupe' 'other' 'sedan' 'small' 'suv' 'wagon' nan]\n",
      "gearbox:\n",
      " ['auto' 'manual' nan]\n",
      "fuel_type:\n",
      " ['cng' 'electric' 'gasoline' 'hybrid' 'lpg' 'other' 'petrol' nan]\n",
      "brand:\n",
      " ['alfa_romeo' 'audi' 'bmw' 'chevrolet' 'chrysler' 'citroen' 'dacia'\n",
      " 'daewoo' 'daihatsu' 'fiat' 'ford' 'honda' 'hyundai' 'jaguar' 'jeep' 'kia'\n",
      " 'lada' 'lancia' 'land_rover' 'mazda' 'mercedes_benz' 'mini' 'mitsubishi'\n",
      " 'nissan' 'opel' 'peugeot' 'porsche' 'renault' 'rover' 'saab' 'seat'\n",
      " 'skoda' 'smart' 'sonstige_autos' 'subaru' 'suzuki' 'toyota' 'trabant'\n",
      " 'volkswagen' 'volvo']\n",
      "repaired:\n",
      " ['no' 'yes' nan]\n"
     ]
    }
   ],
   "source": [
    "# Revisa los nombres únicos de las columnas de tipo de vehiculo y tipo de caja de cambios.\n",
    "for col_name in df[['vehicle_type', 'gearbox', 'fuel_type', 'brand', 'repaired']]:\n",
    "    print(f'{col_name}:\\n',df[col_name].sort_values().unique())"
   ]
  },
  {
   "cell_type": "code",
   "execution_count": 12,
   "metadata": {},
   "outputs": [
    {
     "data": {
      "text/plain": [
       "{'vehicle_type': ['Datos nulos: 37490', 'Porcentaje: 10.579 %'],\n",
       " 'gearbox': ['Datos nulos: 19833', 'Porcentaje: 5.597 %'],\n",
       " 'model': ['Datos nulos: 19705', 'Porcentaje: 5.561 %'],\n",
       " 'fuel_type': ['Datos nulos: 32895', 'Porcentaje: 9.283 %'],\n",
       " 'repaired': ['Datos nulos: 71154', 'Porcentaje: 20.079 %']}"
      ]
     },
     "execution_count": 12,
     "metadata": {},
     "output_type": "execute_result"
    }
   ],
   "source": [
    "# Revisa el porcentaje de valores nulos en cada columna.\n",
    "{col: [f'Datos nulos: {df[col].isnull().sum()}', f'Porcentaje: {np.round(np.mean(df[col].isnull()*100), 3)} %'] for col in df.columns if df[col].isnull().any()}"
   ]
  },
  {
   "cell_type": "code",
   "execution_count": 13,
   "metadata": {},
   "outputs": [
    {
     "name": "stdout",
     "output_type": "stream",
     "text": [
      "Total de valores nulos: 30.633%\n"
     ]
    }
   ],
   "source": [
    "# Muestra el porcentaje de valores nulos en todo el dataset.\n",
    "print(f'Total de valores nulos: {np.round(np.absolute(df.dropna().count() / df.shape[0] -1)[0] *100,3)}%')\n"
   ]
  },
  {
   "cell_type": "code",
   "execution_count": 14,
   "metadata": {},
   "outputs": [
    {
     "data": {
      "text/plain": [
       "<seaborn.axisgrid.FacetGrid at 0x20d8d6db8d0>"
      ]
     },
     "execution_count": 14,
     "metadata": {},
     "output_type": "execute_result"
    },
    {
     "data": {
      "image/png": "[encoded data removed]",
      "text/plain": [
       "<Figure size 584.875x500 with 1 Axes>"
      ]
     },
     "metadata": {},
     "output_type": "display_data"
    }
   ],
   "source": [
    "# Muestra un gráfico que muestre el porcentaje de nulos en cada columna\n",
    "sns.displot(\n",
    "    data=df.isnull().melt(value_name='nulos'),\n",
    "    y='variable',\n",
    "    hue='nulos',\n",
    "    multiple='fill'\n",
    ")\n"
   ]
  },
  {
   "cell_type": "markdown",
   "metadata": {},
   "source": [
    "#### Comentario.\n",
    "\n",
    "\n",
    "\n",
    "  - El 20% de datos de la columna \"repaired\" son nulos, representa aproximadamente la tercera parte de nuestro total de datos nulos, el predecir los datos nulos en esta columna podría ser un trabajo aparte, probemos rellenando los valores nulos con 'unknown'.\n",
    "\n",
    "\n",
    "\n",
    "  - El total de registros con algún valor nulo es del 30%.\n",
    "\n",
    "\n",
    "\n",
    "  - El rellenar la columna \"repaired\" podría dar para una tarea aparte, por ahora rellenemos los valores ausentes con 'unknown', el saber si un vehiculo tiene reparaciones podría ser independiente a las demás características.\n",
    "\n",
    "\n",
    "\n",
    "  - No tenemos problemas de categorias duplicadas, sin embargo seguimos con el problema de los nulos, investiguemos."
   ]
  },
  {
   "cell_type": "markdown",
   "metadata": {},
   "source": [
    "  ### Arregla los datos (segunda parte)."
   ]
  },
  {
   "cell_type": "code",
   "execution_count": 15,
   "metadata": {},
   "outputs": [],
   "source": [
    "# Rellena los datos nulos de la columna \"repaired\" con \"unknown\"\n",
    "df['repaired'] = df['repaired'].fillna('unknown')\n"
   ]
  },
  {
   "cell_type": "markdown",
   "metadata": {},
   "source": [
    "### Análisis exploratorio (Tercera parte)"
   ]
  },
  {
   "cell_type": "code",
   "execution_count": 16,
   "metadata": {},
   "outputs": [
    {
     "data": {
      "image/png": "[encoded data removed]",
      "text/plain": [
       "<Figure size 640x480 with 1 Axes>"
      ]
     },
     "metadata": {},
     "output_type": "display_data"
    },
    {
     "data": {
      "image/png": "[encoded data removed]",
      "text/plain": [
       "<Figure size 640x480 with 1 Axes>"
      ]
     },
     "metadata": {},
     "output_type": "display_data"
    },
    {
     "data": {
      "image/png": "[encoded data removed]",
      "text/plain": [
       "<Figure size 640x480 with 1 Axes>"
      ]
     },
     "metadata": {},
     "output_type": "display_data"
    },
    {
     "data": {
      "image/png": "[encoded data removed]",
      "text/plain": [
       "<Figure size 640x480 with 1 Axes>"
      ]
     },
     "metadata": {},
     "output_type": "display_data"
    }
   ],
   "source": [
    "# Muestra gráficos para visualizar la distribución de los datos\n",
    "for i in numeric_cols_index[:-2]:\n",
    "    traza_plots_condicionados(df.iloc[:,i], nombres_columnas[i])\n"
   ]
  },
  {
   "cell_type": "markdown",
   "metadata": {},
   "source": [
    "  #### Comentario.\n",
    "\n",
    "\n",
    "\n",
    "  - En el gráfico de \"price\", aparentemente los precios anomalos en la parte superior son parte de los datos (no son datos anomalos), a comparación de los precios inferiores, pero no es normal que encontremos vehiculos gratuitos, investiguemos, pues el primer cuartil tiene precios bajos.\n",
    "\n",
    "\n",
    "\n",
    "  - En el caso de la columna \"registration_year\" si vemos años inusuales, investiguemos el porcentaje que estos representan.\n",
    "\n",
    "\n",
    "\n",
    "  - Parece que los usuarios tienen buen sentido del humor, visualicemos el porcentaje de vehículos por encima de los 1000CV (por debajo de esos 1000CV podríamos tener súper autos).\n",
    "\n",
    "\n",
    "\n",
    "  - En la columna de \"kilometer\" vemos algunos registros con kilometraje anomalo, sin embargo a pesar que es poco usual, si podríamos encontrar un vehiculo con poco kilometraje en venta. Dejemos esta columna sin modificar los datos anomalos."
   ]
  },
  {
   "cell_type": "markdown",
   "metadata": {},
   "source": [
    "  #### Porcentaje de anomalos en \"price\""
   ]
  },
  {
   "cell_type": "code",
   "execution_count": 17,
   "metadata": {},
   "outputs": [],
   "source": [
    "# Calcula los niveles de los bigotes de boxplot de la columna \"price\"\n",
    "up_lvl_price, low_lvl_price = IQR_calc(df,'price')"
   ]
  },
  {
   "cell_type": "code",
   "execution_count": 18,
   "metadata": {},
   "outputs": [
    {
     "name": "stdout",
     "output_type": "stream",
     "text": [
      "14425.0 -6975.0\n"
     ]
    }
   ],
   "source": [
    "# Muestra los valores de los bigotes\n",
    "print(up_lvl_price, low_lvl_price)"
   ]
  },
  {
   "cell_type": "code",
   "execution_count": 19,
   "metadata": {},
   "outputs": [
    {
     "data": {
      "image/png": "[encoded data removed]",
      "text/plain": [
       "<Figure size 640x480 with 1 Axes>"
      ]
     },
     "metadata": {},
     "output_type": "display_data"
    }
   ],
   "source": [
    "# Muestra un boxplot del primer cuartil de \"price\"\n",
    "df[df['price'] < df['price'].quantile(0.25)].boxplot('price')\n",
    "plt.show()"
   ]
  },
  {
   "cell_type": "code",
   "execution_count": 20,
   "metadata": {},
   "outputs": [
    {
     "data": {
      "text/plain": [
       "<Axes: >"
      ]
     },
     "execution_count": 20,
     "metadata": {},
     "output_type": "execute_result"
    },
    {
     "data": {
      "image/png": "[encoded data removed]",
      "text/plain": [
       "<Figure size 640x480 with 1 Axes>"
      ]
     },
     "metadata": {},
     "output_type": "display_data"
    }
   ],
   "source": [
    "# Muestra un boxplot de datos menores a 200 en \"price\".\n",
    "df[df['price'] < 200].boxplot('price')\n"
   ]
  },
  {
   "cell_type": "code",
   "execution_count": 21,
   "metadata": {},
   "outputs": [
    {
     "data": {
      "text/plain": [
       "count     88057.000000\n",
       "mean     135877.102331\n",
       "std       35471.831007\n",
       "min        5000.000000\n",
       "25%      150000.000000\n",
       "50%      150000.000000\n",
       "75%      150000.000000\n",
       "max      150000.000000\n",
       "Name: kilometer, dtype: float64"
      ]
     },
     "execution_count": 21,
     "metadata": {},
     "output_type": "execute_result"
    }
   ],
   "source": [
    "# Muestra un describe de \"kilometer\" para la columna de \"price\" menor al primer cuartil\n",
    "df[df['price'] < df['price'].quantile(0.25)]['kilometer'].describe()\n"
   ]
  },
  {
   "cell_type": "code",
   "execution_count": 22,
   "metadata": {},
   "outputs": [
    {
     "data": {
      "text/plain": [
       "24.84895687828224"
      ]
     },
     "execution_count": 22,
     "metadata": {},
     "output_type": "execute_result"
    }
   ],
   "source": [
    "# Muestra el porcentaje de datos por debajo del primer cuartil\n",
    "df[(df['price'] < df['price'].quantile(0.25))]['price'].count() / df.shape[0] * 100"
   ]
  },
  {
   "cell_type": "code",
   "execution_count": 23,
   "metadata": {},
   "outputs": [
    {
     "data": {
      "text/plain": [
       "0.05355716781095412"
      ]
     },
     "execution_count": 23,
     "metadata": {},
     "output_type": "execute_result"
    }
   ],
   "source": [
    "# Muestra el porcentaje de datos por encima del bigote superior\n",
    "df[df['price'] > up_lvl_price]['price'].count() / df.shape[0]\n"
   ]
  },
  {
   "cell_type": "markdown",
   "metadata": {},
   "source": [
    "  #### Porcentaje de anomalos en \"registration_year\"."
   ]
  },
  {
   "cell_type": "code",
   "execution_count": 24,
   "metadata": {},
   "outputs": [
    {
     "name": "stdout",
     "output_type": "stream",
     "text": [
      "Porcentaje de vehículos con 'registration_year' anomalo:  1.78 %\n"
     ]
    }
   ],
   "source": [
    "# Calcula los bigotes de la columna 'registration_year'\n",
    "up_reg_year, low_reg_year = IQR_calc(df, 'registration_year')\n",
    "# Muestra el porcentaje de vehiculos con registration_year anomalo\n",
    "print(\"Porcentaje de vehículos con 'registration_year' anomalo: \", np.round(df.query(\"registration_year < @low_reg_year or registration_year > @up_reg_year\")['registration_year'].count() / df.shape[0] * 100,3),'%')\n"
   ]
  },
  {
   "cell_type": "markdown",
   "metadata": {},
   "source": [
    "  #### Porcentaje de datos anomalos en \"power\"."
   ]
  },
  {
   "cell_type": "code",
   "execution_count": 25,
   "metadata": {},
   "outputs": [
    {
     "name": "stdout",
     "output_type": "stream",
     "text": [
      "Nivel superior: 254.0 Nivel inferior: -42.0\n",
      "Porcentaje de vehiculos por encima del bigote superior: 2.071 %\n",
      "Porcentaje de vehiculos por debajo del primer valor del primer cuartil: 24.939 %\n",
      "Valor de primer cuartil: 69.0\n"
     ]
    }
   ],
   "source": [
    "# Calcula los niveles de los bigotes de la columna \"power\"\n",
    "up_lvl_power, low_lvl_power = IQR_calc(df,'power')\n",
    "#Muestra los niveles de los bigotes.\n",
    "print(\"Nivel superior:\", up_lvl_power, \"Nivel inferior:\",low_lvl_power)\n",
    "# Porcentaje de vehiculos por encima del bigote superior.\n",
    "print(\"Porcentaje de vehiculos por encima del bigote superior:\",np.round(df[df['power'] > up_lvl_power]['power'].count() / df.shape[0] * 100,3),\"%\")\n",
    "# Porcentaje de vehiculos por debajo del primer cuartil.\n",
    "print(\"Porcentaje de vehiculos por debajo del primer valor del primer cuartil:\",np.round(df[df['power'] < df['power'].quantile(0.25)]['power'].count() / df.shape[0] * 100,3),\"%\")\n",
    "# Muestra el valor del primer cuartil\n",
    "print(\"Valor de primer cuartil:\", df['power'].quantile(0.25))\n",
    "\n"
   ]
  },
  {
   "cell_type": "markdown",
   "metadata": {},
   "source": [
    " ### Porcentaje de datos anomalos en \"kilometer\""
   ]
  },
  {
   "cell_type": "code",
   "execution_count": 26,
   "metadata": {},
   "outputs": [
    {
     "name": "stdout",
     "output_type": "stream",
     "text": [
      "87500.0\n",
      "Porcentaje de valores por debajo del bigote inferior: 15.029\n"
     ]
    }
   ],
   "source": [
    "# Calcula el valor de los bigotes del boxplot de \"kilometer\"\n",
    "up_lvl_kilometer, low_lvl_kilometer = IQR_calc(df,'kilometer')\n",
    "# Muestra el valor del bigote inferior.\n",
    "print(low_lvl_kilometer)\n",
    "# Muestra el porcentaje de valores por debajo del bigote inferior.\n",
    "print(\"Porcentaje de valores por debajo del bigote inferior:\", np.round(df[df['kilometer']<low_lvl_kilometer]['kilometer'].count()/df.shape[0]*100,3))\n"
   ]
  },
  {
   "cell_type": "markdown",
   "metadata": {},
   "source": [
    "  #### Comentario.\n",
    "\n",
    "\n",
    "\n",
    "  - Gran mayoría de datos del primer cuartil en la columna de \"price\" tiene 150,000 kilometros de recorrido, lo que explicaría el precio bajo, sin embargo, el total de datos anomalos suma aproximadamente el 29%.\n",
    "\n",
    "\n",
    "\n",
    "  - Rellena por ahora los datos de la columna \"price\" por debajo del primer cuartil con la media.\n",
    "\n",
    "\n",
    "\n",
    "  - Los datos anomalos de la columna \"registration_year\" representan un bajo porcentaje, conservemos los vehiculos desde el año en que se invento el primer vehiculo hasta el año actual.\n",
    "\n",
    "\n",
    "\n",
    "  - Conservemos los vehiculos por encima del primer cuartil y hasta 1000 cv (superior al bigote superior e inferior a 1000 pudieramos tener un super auto) y rellena los datos por debajo del primer cuartil con la media.\n",
    "\n",
    "\n",
    "\n",
    "  - El porcentaje de valores por debajo del bigote inferior de la columna \"kilometer\" es del 15% sin embargo, pudieran no ser valores anomalos, conservemoslos."
   ]
  },
  {
   "cell_type": "markdown",
   "metadata": {},
   "source": [
    "  ### Arregla los datos (tercera parte)."
   ]
  },
  {
   "cell_type": "code",
   "execution_count": 27,
   "metadata": {},
   "outputs": [],
   "source": [
    "# Rellena los datos de \"price\" por debajo del primer cuartil con la media.\n",
    "df.loc[df['price']<df['price'].quantile(0.25), 'price'] = df['price'].mean()\n",
    "# Rellena los datos de \"power\" por debajo del primer cuartil con la media.\n",
    "df.loc[df['power']<df['power'].quantile(0.25), 'power'] = df['power'].mean()\n",
    "# Elimina los datos anomalos en la columna \"registration_year\"\n",
    "df = df.query(\"registration_year > 1886 and registration_year < 2024\")\n",
    "df = df.query(\"power > power.quantile(0.25) and power < 1000\")\n",
    "df = df.dropna().reset_index(drop=True)\n"
   ]
  },
  {
   "cell_type": "markdown",
   "metadata": {},
   "source": [
    "  ### Separa el df en conjuntos de entrenamiento y prueba para los distintos modelos."
   ]
  },
  {
   "cell_type": "code",
   "execution_count": 28,
   "metadata": {},
   "outputs": [],
   "source": [
    "# Dividir el dataframe en conjunto de entrenamiento validación y prueba\n",
    "seed = np.random.seed(42)\n",
    "X_train, X, y_train, y = train_test_split(df.drop('price', axis=1), df['price'], test_size=0.4, random_state=seed)\n",
    "X_valid, X_test, y_valid, y_test = train_test_split(X, y, test_size=0.5, random_state=seed)"
   ]
  },
  {
   "cell_type": "markdown",
   "metadata": {},
   "source": [
    "### Preprocesa el conjunto de datos para buscar el mejor modelo"
   ]
  },
  {
   "cell_type": "code",
   "execution_count": 29,
   "metadata": {},
   "outputs": [],
   "source": [
    "# Crea una instancia para el codificador para la columna 'repaired' con el orden de las etiquetas y aplica fit con la columna 'repaired' del conjunto de entrenamiento.\n",
    "lr_ordinal_encoder = OrdinalEncoder(categories=[[\"unknown\", \"yes\", \"no\"]]).fit(X_train[['repaired']])\n",
    "# Transforma las etiquetas del conjunto de entrenamiento\n",
    "X_train[['repaired']] = lr_ordinal_encoder.transform(X_train[['repaired']])\n",
    "X_train[['repaired']] = X_train[['repaired']].astype('int64')\n",
    "# Transforma las etiquetas del conjunto de validación y prueba\n",
    "X_valid[['repaired']] = lr_ordinal_encoder.transform(X_valid[['repaired']])\n",
    "X_valid[['repaired']] = X_valid[['repaired']].astype('int64')\n",
    "X_test[['repaired']] = lr_ordinal_encoder.transform(X_test[['repaired']])\n",
    "X_test[['repaired']] = X_test[['repaired']].astype('int64')\n",
    "# Codifica algunas caracteristicas nominales con BinaryEncoder.\n",
    "cols_to_binary_encoder = ['vehicle_type', 'gearbox', 'model', 'fuel_type', 'brand']\n",
    "binary_encoder = BinaryEncoder(cols=cols_to_binary_encoder).fit(X_train[cols_to_binary_encoder])\n",
    "# Crea una variable con las nuevas columnas\n",
    "X_train_bin_cols = binary_encoder.transform(X_train[cols_to_binary_encoder])\n",
    "X_valid_bin_cols = binary_encoder.transform(X_valid[cols_to_binary_encoder])\n",
    "X_test_bin_cols = binary_encoder.transform(X_test[cols_to_binary_encoder])\n",
    "# Elimina las columnas que vamos a reemplazar\n",
    "X_train = X_train.drop(cols_to_binary_encoder, axis=1)\n",
    "X_valid = X_valid.drop(cols_to_binary_encoder, axis=1)\n",
    "X_test = X_test.drop(cols_to_binary_encoder, axis=1)\n",
    "# Concatena los dataframes que reemplazan las columnas codificadas\n",
    "X_train = pd.concat([X_train, X_train_bin_cols], axis=1)\n",
    "X_valid = pd.concat([X_valid, X_valid_bin_cols], axis=1)\n",
    "X_test = pd.concat([X_test, X_test_bin_cols], axis=1)\n",
    "# Crea un transformador para las características numéricas a escalar\n",
    "numeric_cols_for_scaler = ['registration_year', 'power', 'kilometer']\n",
    "rob_scaler = RobustScaler().fit(X_train[numeric_cols_for_scaler])\n",
    "# Escala las características numéricas con RobustScaler para que la normalización sea robusta a los datos anomalos\n",
    "X_train[numeric_cols_for_scaler] = rob_scaler.transform(X_train[numeric_cols_for_scaler])\n",
    "X_valid[numeric_cols_for_scaler] = rob_scaler.transform(X_valid[numeric_cols_for_scaler])\n",
    "X_test[numeric_cols_for_scaler] = rob_scaler.transform(X_test[numeric_cols_for_scaler])\n"
   ]
  },
  {
   "cell_type": "markdown",
   "metadata": {},
   "source": [
    "### Busqueda de modelo."
   ]
  },
  {
   "cell_type": "markdown",
   "metadata": {},
   "source": [
    "#### Regresión lineal."
   ]
  },
  {
   "cell_type": "code",
   "execution_count": 30,
   "metadata": {},
   "outputs": [
    {
     "name": "stdout",
     "output_type": "stream",
     "text": [
      "Raíz del error cuadrático medio de Regresión Lineal: 3198.0918636372407\n"
     ]
    },
    {
     "name": "stderr",
     "output_type": "stream",
     "text": [
      "c:\\Users\\chuch\\AppData\\Local\\Programs\\Python\\Python311\\Lib\\site-packages\\sklearn\\metrics\\_regression.py:483: FutureWarning: 'squared' is deprecated in version 1.4 and will be removed in 1.6. To calculate the root mean squared error, use the function'root_mean_squared_error'.\n",
      "  warnings.warn(\n"
     ]
    }
   ],
   "source": [
    "# Entrena un modelo de Regresión lineal\n",
    "clf_linearr = LinearRegression().fit(X_train, y_train)\n",
    "# Score\n",
    "predict_linearr = clf_linearr.predict(X_valid)\n",
    "print('Raíz del error cuadrático medio de Regresión Lineal:', mean_squared_error(y_valid, predict_linearr, squared=False))\n"
   ]
  },
  {
   "cell_type": "markdown",
   "metadata": {},
   "source": [
    " #### XGBoost"
   ]
  },
  {
   "cell_type": "code",
   "execution_count": null,
   "metadata": {},
   "outputs": [],
   "source": [
    "\n",
    "# Crea una instancia para el modelo\n",
    "clf_xgb = XGBRegressor()\n",
    "# Crea un diccionario con los hiperparámetros para xgb\n",
    "xgb_grid = {\n",
    "    'learning_rate': [0.03, 0.05, 0.07],\n",
    "    'max_depth': [5,6,7]\n",
    "}\n",
    "# Pasa el modelo por GridSerachCV\n",
    "xgb_gridcv = GridSearchCV(clf_xgb, xgb_grid, scoring='neg_root_mean_squared_error',verbose=30)\n",
    "xgb_gridcv.fit(X_train, y_train)\n",
    "# Imprime los mejores parámetros\n",
    "xgb_gridcv.best_params_"
   ]
  },
  {
   "cell_type": "code",
   "execution_count": 31,
   "metadata": {},
   "outputs": [
    {
     "name": "stdout",
     "output_type": "stream",
     "text": [
      "Raíz del error cuadrático medio de XGBRegressor: 1903.555753236869\n"
     ]
    },
    {
     "name": "stderr",
     "output_type": "stream",
     "text": [
      "c:\\Users\\chuch\\AppData\\Local\\Programs\\Python\\Python311\\Lib\\site-packages\\sklearn\\metrics\\_regression.py:483: FutureWarning: 'squared' is deprecated in version 1.4 and will be removed in 1.6. To calculate the root mean squared error, use the function'root_mean_squared_error'.\n",
      "  warnings.warn(\n"
     ]
    }
   ],
   "source": [
    "\n",
    "# Entrena el modelo con los mejores parámetros\n",
    "clf_xgb = XGBRegressor(learning_rate=0.07, max_depth=7).fit(X_train, y_train)\n",
    "# Predice con el conjunto de validación\n",
    "y_pred_xgb = clf_xgb.predict(X_valid)\n",
    "# Muestra el score\n",
    "print(\"Raíz del error cuadrático medio de XGBRegressor:\", mean_squared_error(y_valid, y_pred_xgb, squared=False))\n"
   ]
  },
  {
   "cell_type": "markdown",
   "metadata": {},
   "source": [
    "#### Bosque Aleatorio."
   ]
  },
  {
   "cell_type": "code",
   "execution_count": 29,
   "metadata": {},
   "outputs": [
    {
     "name": "stdout",
     "output_type": "stream",
     "text": [
      "Fitting 5 folds for each of 12 candidates, totalling 60 fits\n",
      "[CV 1/5; 1/12] START criterion=squared_error, max_depth=38......................\n",
      "[CV 1/5; 1/12] END criterion=squared_error, max_depth=38;, score=-1863.274 total time=  49.0s\n",
      "[CV 2/5; 1/12] START criterion=squared_error, max_depth=38......................\n",
      "[CV 2/5; 1/12] END criterion=squared_error, max_depth=38;, score=-1852.565 total time=  48.3s\n",
      "[CV 3/5; 1/12] START criterion=squared_error, max_depth=38......................\n",
      "[CV 3/5; 1/12] END criterion=squared_error, max_depth=38;, score=-1863.121 total time=  44.3s\n",
      "[CV 4/5; 1/12] START criterion=squared_error, max_depth=38......................\n",
      "[CV 4/5; 1/12] END criterion=squared_error, max_depth=38;, score=-1836.985 total time=  44.3s\n",
      "[CV 5/5; 1/12] START criterion=squared_error, max_depth=38......................\n",
      "[CV 5/5; 1/12] END criterion=squared_error, max_depth=38;, score=-1869.629 total time=  43.8s\n",
      "[CV 1/5; 2/12] START criterion=squared_error, max_depth=43......................\n",
      "[CV 1/5; 2/12] END criterion=squared_error, max_depth=43;, score=-1865.389 total time=  44.2s\n",
      "[CV 2/5; 2/12] START criterion=squared_error, max_depth=43......................\n",
      "[CV 2/5; 2/12] END criterion=squared_error, max_depth=43;, score=-1849.300 total time=  44.4s\n",
      "[CV 3/5; 2/12] START criterion=squared_error, max_depth=43......................\n",
      "[CV 3/5; 2/12] END criterion=squared_error, max_depth=43;, score=-1864.445 total time=  43.8s\n",
      "[CV 4/5; 2/12] START criterion=squared_error, max_depth=43......................\n",
      "[CV 4/5; 2/12] END criterion=squared_error, max_depth=43;, score=-1835.460 total time=  44.1s\n",
      "[CV 5/5; 2/12] START criterion=squared_error, max_depth=43......................\n",
      "[CV 5/5; 2/12] END criterion=squared_error, max_depth=43;, score=-1870.297 total time=  43.5s\n",
      "[CV 1/5; 3/12] START criterion=squared_error, max_depth=48......................\n",
      "[CV 1/5; 3/12] END criterion=squared_error, max_depth=48;, score=-1865.781 total time=  43.7s\n",
      "[CV 2/5; 3/12] START criterion=squared_error, max_depth=48......................\n",
      "[CV 2/5; 3/12] END criterion=squared_error, max_depth=48;, score=-1848.994 total time=  43.4s\n",
      "[CV 3/5; 3/12] START criterion=squared_error, max_depth=48......................\n",
      "[CV 3/5; 3/12] END criterion=squared_error, max_depth=48;, score=-1863.739 total time=  43.6s\n",
      "[CV 4/5; 3/12] START criterion=squared_error, max_depth=48......................\n",
      "[CV 4/5; 3/12] END criterion=squared_error, max_depth=48;, score=-1837.216 total time=  43.6s\n",
      "[CV 5/5; 3/12] START criterion=squared_error, max_depth=48......................\n",
      "[CV 5/5; 3/12] END criterion=squared_error, max_depth=48;, score=-1867.532 total time=  43.8s\n",
      "[CV 1/5; 4/12] START criterion=friedman_mse, max_depth=38.......................\n",
      "[CV 1/5; 4/12] END criterion=friedman_mse, max_depth=38;, score=-1861.241 total time=  43.6s\n",
      "[CV 2/5; 4/12] START criterion=friedman_mse, max_depth=38.......................\n",
      "[CV 2/5; 4/12] END criterion=friedman_mse, max_depth=38;, score=-1849.517 total time=  43.7s\n",
      "[CV 3/5; 4/12] START criterion=friedman_mse, max_depth=38.......................\n",
      "[CV 3/5; 4/12] END criterion=friedman_mse, max_depth=38;, score=-1864.660 total time=  44.7s\n",
      "[CV 4/5; 4/12] START criterion=friedman_mse, max_depth=38.......................\n",
      "[CV 4/5; 4/12] END criterion=friedman_mse, max_depth=38;, score=-1837.175 total time=  44.7s\n",
      "[CV 5/5; 4/12] START criterion=friedman_mse, max_depth=38.......................\n",
      "[CV 5/5; 4/12] END criterion=friedman_mse, max_depth=38;, score=-1870.925 total time=  43.6s\n",
      "[CV 1/5; 5/12] START criterion=friedman_mse, max_depth=43.......................\n",
      "[CV 1/5; 5/12] END criterion=friedman_mse, max_depth=43;, score=-1863.303 total time=  43.7s\n",
      "[CV 2/5; 5/12] START criterion=friedman_mse, max_depth=43.......................\n",
      "[CV 2/5; 5/12] END criterion=friedman_mse, max_depth=43;, score=-1850.141 total time=  43.8s\n",
      "[CV 3/5; 5/12] START criterion=friedman_mse, max_depth=43.......................\n",
      "[CV 3/5; 5/12] END criterion=friedman_mse, max_depth=43;, score=-1864.926 total time=  43.6s\n",
      "[CV 4/5; 5/12] START criterion=friedman_mse, max_depth=43.......................\n",
      "[CV 4/5; 5/12] END criterion=friedman_mse, max_depth=43;, score=-1837.788 total time=  43.5s\n",
      "[CV 5/5; 5/12] START criterion=friedman_mse, max_depth=43.......................\n",
      "[CV 5/5; 5/12] END criterion=friedman_mse, max_depth=43;, score=-1869.462 total time=  44.1s\n",
      "[CV 1/5; 6/12] START criterion=friedman_mse, max_depth=48.......................\n",
      "[CV 1/5; 6/12] END criterion=friedman_mse, max_depth=48;, score=-1862.876 total time=  43.8s\n",
      "[CV 2/5; 6/12] START criterion=friedman_mse, max_depth=48.......................\n",
      "[CV 2/5; 6/12] END criterion=friedman_mse, max_depth=48;, score=-1850.119 total time=  43.6s\n",
      "[CV 3/5; 6/12] START criterion=friedman_mse, max_depth=48.......................\n",
      "[CV 3/5; 6/12] END criterion=friedman_mse, max_depth=48;, score=-1865.176 total time=  43.6s\n",
      "[CV 4/5; 6/12] START criterion=friedman_mse, max_depth=48.......................\n",
      "[CV 4/5; 6/12] END criterion=friedman_mse, max_depth=48;, score=-1837.153 total time=  44.7s\n",
      "[CV 5/5; 6/12] START criterion=friedman_mse, max_depth=48.......................\n",
      "[CV 5/5; 6/12] END criterion=friedman_mse, max_depth=48;, score=-1869.433 total time=  43.7s\n",
      "[CV 1/5; 7/12] START criterion=absolute_error, max_depth=38.....................\n"
     ]
    }
   ],
   "source": [
    "# Crea una instancia del modelo.\n",
    "clf_rfr = RandomForestRegressor(random_state=seed)\n",
    "rfr_grid = {\n",
    "    \"criterion\":[\"squared_error\", \"friedman_mse\", \"absolute_error\", \"poisson\"],\n",
    "    \"max_depth\":list(range(38,49,5))\n",
    "}\n",
    "# Pasa el modelo por GridSearchCV.\n",
    "rfr_gridscv = GridSearchCV(clf_rfr, rfr_grid, scoring='neg_root_mean_squared_error',verbose=30)\n",
    "rfr_gridscv.fit(X_train, y_train) \n",
    "rfr_gridscv.best_params_"
   ]
  },
  {
   "cell_type": "code",
   "execution_count": 33,
   "metadata": {},
   "outputs": [
    {
     "name": "stdout",
     "output_type": "stream",
     "text": [
      "Raíz del error cuadrático medio de Árbol de Decisión de regresión: 1853.6601547962464\n"
     ]
    },
    {
     "name": "stderr",
     "output_type": "stream",
     "text": [
      "c:\\Users\\chuch\\AppData\\Local\\Programs\\Python\\Python311\\Lib\\site-packages\\sklearn\\metrics\\_regression.py:483: FutureWarning: 'squared' is deprecated in version 1.4 and will be removed in 1.6. To calculate the root mean squared error, use the function'root_mean_squared_error'.\n",
      "  warnings.warn(\n"
     ]
    }
   ],
   "source": [
    "# Entrena el modelo con los mejores hiperparámetros\n",
    "clf_rfr = RandomForestRegressor(criterion='poisson', max_depth=43, random_state=seed).fit(X_train, y_train)\n",
    "y_pred_rfr = clf_rfr.predict(X_valid)\n",
    "# Resultado\n",
    "print(\"Raíz del error cuadrático medio de Árbol de Decisión de regresión:\", mean_squared_error(y_valid, y_pred_rfr, squared=False))\n"
   ]
  },
  {
   "cell_type": "markdown",
   "metadata": {},
   "source": [
    "  ### CatBoostClassifier"
   ]
  },
  {
   "cell_type": "code",
   "execution_count": null,
   "metadata": {},
   "outputs": [],
   "source": [
    "# Pasa catboost por gridsearch\n",
    "cat_grid = {\n",
    "    'learning_rate':[0.1,0.5],\n",
    "    'iterations':[150]\n",
    "}\n",
    "cat_model = CatBoostRegressor(loss_function='RMSE',verbose=50, random_state=seed)\n",
    "grid_search_result = cat_model.grid_search(param_grid=cat_grid, X=X_train, y=y_train, train_size=0.7)\n",
    "grid_search_result['params']\n",
    " \n"
   ]
  },
  {
   "cell_type": "code",
   "execution_count": 34,
   "metadata": {},
   "outputs": [
    {
     "name": "stdout",
     "output_type": "stream",
     "text": [
      "0:\tlearn: 3232.5598676\ttotal: 171ms\tremaining: 25.5s\n",
      "1:\tlearn: 2749.0329014\ttotal: 184ms\tremaining: 13.6s\n",
      "2:\tlearn: 2539.7690974\ttotal: 194ms\tremaining: 9.53s\n",
      "3:\tlearn: 2435.8379246\ttotal: 207ms\tremaining: 7.55s\n",
      "4:\tlearn: 2373.8994785\ttotal: 217ms\tremaining: 6.29s\n",
      "5:\tlearn: 2327.9212567\ttotal: 228ms\tremaining: 5.46s\n",
      "6:\tlearn: 2310.0296505\ttotal: 238ms\tremaining: 4.86s\n",
      "7:\tlearn: 2254.0036452\ttotal: 251ms\tremaining: 4.45s\n",
      "8:\tlearn: 2232.2968383\ttotal: 263ms\tremaining: 4.13s\n",
      "9:\tlearn: 2205.5935088\ttotal: 274ms\tremaining: 3.84s\n",
      "10:\tlearn: 2150.6455203\ttotal: 285ms\tremaining: 3.6s\n",
      "11:\tlearn: 2138.2481226\ttotal: 295ms\tremaining: 3.39s\n",
      "12:\tlearn: 2131.0594256\ttotal: 305ms\tremaining: 3.21s\n",
      "13:\tlearn: 2123.8146477\ttotal: 315ms\tremaining: 3.06s\n",
      "14:\tlearn: 2113.4521941\ttotal: 325ms\tremaining: 2.92s\n",
      "15:\tlearn: 2091.1826434\ttotal: 336ms\tremaining: 2.81s\n",
      "16:\tlearn: 2068.0062950\ttotal: 350ms\tremaining: 2.74s\n",
      "17:\tlearn: 2056.4166802\ttotal: 360ms\tremaining: 2.64s\n",
      "18:\tlearn: 2042.9673382\ttotal: 371ms\tremaining: 2.56s\n",
      "19:\tlearn: 2031.5801082\ttotal: 383ms\tremaining: 2.49s\n",
      "20:\tlearn: 2026.6380670\ttotal: 392ms\tremaining: 2.41s\n",
      "21:\tlearn: 2015.7375745\ttotal: 405ms\tremaining: 2.35s\n",
      "22:\tlearn: 2011.4887337\ttotal: 415ms\tremaining: 2.29s\n",
      "23:\tlearn: 2005.8424202\ttotal: 425ms\tremaining: 2.23s\n",
      "24:\tlearn: 2000.9063249\ttotal: 436ms\tremaining: 2.18s\n",
      "25:\tlearn: 1996.7743881\ttotal: 446ms\tremaining: 2.13s\n",
      "26:\tlearn: 1991.9346221\ttotal: 456ms\tremaining: 2.08s\n",
      "27:\tlearn: 1986.2749132\ttotal: 469ms\tremaining: 2.04s\n",
      "28:\tlearn: 1980.0027763\ttotal: 480ms\tremaining: 2s\n",
      "29:\tlearn: 1974.6009804\ttotal: 490ms\tremaining: 1.96s\n",
      "30:\tlearn: 1968.8683890\ttotal: 502ms\tremaining: 1.93s\n",
      "31:\tlearn: 1959.1304793\ttotal: 513ms\tremaining: 1.89s\n",
      "32:\tlearn: 1955.9957840\ttotal: 522ms\tremaining: 1.85s\n",
      "33:\tlearn: 1952.3223432\ttotal: 533ms\tremaining: 1.82s\n",
      "34:\tlearn: 1947.1718981\ttotal: 543ms\tremaining: 1.78s\n",
      "35:\tlearn: 1944.0373764\ttotal: 553ms\tremaining: 1.75s\n",
      "36:\tlearn: 1940.8581598\ttotal: 562ms\tremaining: 1.72s\n",
      "37:\tlearn: 1937.3086594\ttotal: 573ms\tremaining: 1.69s\n",
      "38:\tlearn: 1934.8779002\ttotal: 582ms\tremaining: 1.66s\n",
      "39:\tlearn: 1933.1097241\ttotal: 593ms\tremaining: 1.63s\n",
      "40:\tlearn: 1930.1170358\ttotal: 603ms\tremaining: 1.6s\n",
      "41:\tlearn: 1926.4403691\ttotal: 613ms\tremaining: 1.57s\n",
      "42:\tlearn: 1923.0946034\ttotal: 622ms\tremaining: 1.55s\n",
      "43:\tlearn: 1919.5472697\ttotal: 633ms\tremaining: 1.52s\n",
      "44:\tlearn: 1915.7756264\ttotal: 644ms\tremaining: 1.5s\n",
      "45:\tlearn: 1914.2855555\ttotal: 653ms\tremaining: 1.48s\n",
      "46:\tlearn: 1910.4575371\ttotal: 663ms\tremaining: 1.45s\n",
      "47:\tlearn: 1906.1592284\ttotal: 673ms\tremaining: 1.43s\n",
      "48:\tlearn: 1903.5160724\ttotal: 683ms\tremaining: 1.41s\n",
      "49:\tlearn: 1901.1211447\ttotal: 694ms\tremaining: 1.39s\n",
      "50:\tlearn: 1898.7729806\ttotal: 703ms\tremaining: 1.36s\n",
      "51:\tlearn: 1895.7649708\ttotal: 714ms\tremaining: 1.34s\n",
      "52:\tlearn: 1894.0290488\ttotal: 724ms\tremaining: 1.32s\n",
      "53:\tlearn: 1892.2739400\ttotal: 733ms\tremaining: 1.3s\n",
      "54:\tlearn: 1890.2957905\ttotal: 744ms\tremaining: 1.28s\n",
      "55:\tlearn: 1889.1656404\ttotal: 753ms\tremaining: 1.26s\n",
      "56:\tlearn: 1887.1097223\ttotal: 763ms\tremaining: 1.25s\n",
      "57:\tlearn: 1884.3699056\ttotal: 774ms\tremaining: 1.23s\n",
      "58:\tlearn: 1881.6267811\ttotal: 784ms\tremaining: 1.21s\n",
      "59:\tlearn: 1879.5310701\ttotal: 795ms\tremaining: 1.19s\n",
      "60:\tlearn: 1877.8999397\ttotal: 805ms\tremaining: 1.17s\n",
      "61:\tlearn: 1873.6278950\ttotal: 815ms\tremaining: 1.16s\n",
      "62:\tlearn: 1871.6499034\ttotal: 826ms\tremaining: 1.14s\n",
      "63:\tlearn: 1870.9189537\ttotal: 835ms\tremaining: 1.12s\n",
      "64:\tlearn: 1869.0732174\ttotal: 845ms\tremaining: 1.1s\n",
      "65:\tlearn: 1867.1695780\ttotal: 856ms\tremaining: 1.09s\n",
      "66:\tlearn: 1865.7280427\ttotal: 866ms\tremaining: 1.07s\n",
      "67:\tlearn: 1864.1006251\ttotal: 878ms\tremaining: 1.06s\n",
      "68:\tlearn: 1862.3425630\ttotal: 889ms\tremaining: 1.04s\n",
      "69:\tlearn: 1860.3926825\ttotal: 900ms\tremaining: 1.03s\n",
      "70:\tlearn: 1858.3497656\ttotal: 911ms\tremaining: 1.01s\n",
      "71:\tlearn: 1855.7473715\ttotal: 923ms\tremaining: 1000ms\n",
      "72:\tlearn: 1854.9847529\ttotal: 933ms\tremaining: 984ms\n",
      "73:\tlearn: 1852.9757017\ttotal: 945ms\tremaining: 970ms\n",
      "74:\tlearn: 1852.2038887\ttotal: 955ms\tremaining: 955ms\n",
      "75:\tlearn: 1851.2599183\ttotal: 966ms\tremaining: 941ms\n",
      "76:\tlearn: 1849.8912021\ttotal: 977ms\tremaining: 926ms\n",
      "77:\tlearn: 1849.1902277\ttotal: 988ms\tremaining: 912ms\n",
      "78:\tlearn: 1848.2200213\ttotal: 998ms\tremaining: 897ms\n",
      "79:\tlearn: 1846.3819162\ttotal: 1.01s\tremaining: 883ms\n",
      "80:\tlearn: 1845.5881700\ttotal: 1.02s\tremaining: 870ms\n",
      "81:\tlearn: 1844.5922383\ttotal: 1.03s\tremaining: 856ms\n",
      "82:\tlearn: 1843.3784515\ttotal: 1.04s\tremaining: 842ms\n",
      "83:\tlearn: 1841.7969687\ttotal: 1.05s\tremaining: 828ms\n",
      "84:\tlearn: 1840.5037190\ttotal: 1.07s\tremaining: 815ms\n",
      "85:\tlearn: 1839.7936771\ttotal: 1.08s\tremaining: 801ms\n",
      "86:\tlearn: 1838.9097589\ttotal: 1.09s\tremaining: 787ms\n",
      "87:\tlearn: 1837.6309553\ttotal: 1.1s\tremaining: 774ms\n",
      "88:\tlearn: 1836.1015365\ttotal: 1.11s\tremaining: 760ms\n",
      "89:\tlearn: 1834.1613404\ttotal: 1.12s\tremaining: 747ms\n",
      "90:\tlearn: 1832.3205392\ttotal: 1.14s\tremaining: 736ms\n",
      "91:\tlearn: 1830.9059889\ttotal: 1.15s\tremaining: 726ms\n",
      "92:\tlearn: 1829.4646256\ttotal: 1.17s\tremaining: 714ms\n",
      "93:\tlearn: 1828.2383124\ttotal: 1.18s\tremaining: 704ms\n",
      "94:\tlearn: 1827.2492924\ttotal: 1.2s\tremaining: 694ms\n",
      "95:\tlearn: 1825.1132768\ttotal: 1.22s\tremaining: 685ms\n",
      "96:\tlearn: 1823.3255802\ttotal: 1.23s\tremaining: 674ms\n",
      "97:\tlearn: 1822.8682367\ttotal: 1.25s\tremaining: 661ms\n",
      "98:\tlearn: 1821.6265975\ttotal: 1.26s\tremaining: 650ms\n",
      "99:\tlearn: 1819.4745465\ttotal: 1.28s\tremaining: 638ms\n",
      "100:\tlearn: 1817.9442129\ttotal: 1.29s\tremaining: 627ms\n",
      "101:\tlearn: 1817.2699965\ttotal: 1.3s\tremaining: 614ms\n",
      "102:\tlearn: 1816.1314545\ttotal: 1.32s\tremaining: 602ms\n",
      "103:\tlearn: 1814.6445794\ttotal: 1.33s\tremaining: 589ms\n",
      "104:\tlearn: 1813.4396599\ttotal: 1.34s\tremaining: 576ms\n",
      "105:\tlearn: 1812.3459678\ttotal: 1.36s\tremaining: 563ms\n",
      "106:\tlearn: 1811.3135128\ttotal: 1.37s\tremaining: 550ms\n",
      "107:\tlearn: 1811.0281613\ttotal: 1.38s\tremaining: 538ms\n",
      "108:\tlearn: 1810.3412011\ttotal: 1.39s\tremaining: 525ms\n",
      "109:\tlearn: 1809.7253692\ttotal: 1.41s\tremaining: 511ms\n",
      "110:\tlearn: 1808.8847216\ttotal: 1.42s\tremaining: 499ms\n",
      "111:\tlearn: 1808.6608544\ttotal: 1.43s\tremaining: 487ms\n",
      "112:\tlearn: 1807.9792013\ttotal: 1.45s\tremaining: 475ms\n",
      "113:\tlearn: 1807.0422585\ttotal: 1.46s\tremaining: 462ms\n",
      "114:\tlearn: 1805.6078579\ttotal: 1.48s\tremaining: 450ms\n",
      "115:\tlearn: 1804.1181421\ttotal: 1.49s\tremaining: 437ms\n",
      "116:\tlearn: 1802.1870647\ttotal: 1.51s\tremaining: 425ms\n",
      "117:\tlearn: 1800.4342819\ttotal: 1.52s\tremaining: 413ms\n",
      "118:\tlearn: 1799.5484012\ttotal: 1.53s\tremaining: 399ms\n",
      "119:\tlearn: 1798.4267839\ttotal: 1.55s\tremaining: 387ms\n",
      "120:\tlearn: 1797.8987329\ttotal: 1.56s\tremaining: 374ms\n",
      "121:\tlearn: 1795.3522666\ttotal: 1.57s\tremaining: 362ms\n",
      "122:\tlearn: 1794.4825045\ttotal: 1.59s\tremaining: 349ms\n",
      "123:\tlearn: 1793.7409080\ttotal: 1.6s\tremaining: 336ms\n",
      "124:\tlearn: 1792.8855507\ttotal: 1.61s\tremaining: 323ms\n",
      "125:\tlearn: 1792.5986770\ttotal: 1.63s\tremaining: 310ms\n",
      "126:\tlearn: 1791.7880727\ttotal: 1.64s\tremaining: 297ms\n",
      "127:\tlearn: 1790.5559670\ttotal: 1.65s\tremaining: 284ms\n",
      "128:\tlearn: 1789.0552885\ttotal: 1.67s\tremaining: 271ms\n",
      "129:\tlearn: 1788.3085366\ttotal: 1.68s\tremaining: 259ms\n",
      "130:\tlearn: 1787.0900390\ttotal: 1.7s\tremaining: 246ms\n",
      "131:\tlearn: 1785.8705138\ttotal: 1.71s\tremaining: 233ms\n",
      "132:\tlearn: 1785.2171854\ttotal: 1.72s\tremaining: 220ms\n",
      "133:\tlearn: 1784.5403210\ttotal: 1.74s\tremaining: 207ms\n",
      "134:\tlearn: 1783.6231286\ttotal: 1.75s\tremaining: 194ms\n",
      "135:\tlearn: 1782.9130159\ttotal: 1.76s\tremaining: 181ms\n",
      "136:\tlearn: 1781.3991431\ttotal: 1.77s\tremaining: 168ms\n",
      "137:\tlearn: 1780.1182938\ttotal: 1.79s\tremaining: 155ms\n",
      "138:\tlearn: 1779.3377803\ttotal: 1.8s\tremaining: 142ms\n",
      "139:\tlearn: 1778.6423418\ttotal: 1.81s\tremaining: 129ms\n",
      "140:\tlearn: 1778.0619761\ttotal: 1.82s\tremaining: 116ms\n",
      "141:\tlearn: 1777.7900157\ttotal: 1.83s\tremaining: 103ms\n",
      "142:\tlearn: 1776.8942579\ttotal: 1.85s\tremaining: 90.4ms\n",
      "143:\tlearn: 1776.2010449\ttotal: 1.86s\tremaining: 77.4ms\n",
      "144:\tlearn: 1775.6088790\ttotal: 1.87s\tremaining: 64.4ms\n",
      "145:\tlearn: 1774.4396383\ttotal: 1.88s\tremaining: 51.5ms\n",
      "146:\tlearn: 1773.9660634\ttotal: 1.89s\tremaining: 38.6ms\n",
      "147:\tlearn: 1772.2570029\ttotal: 1.9s\tremaining: 25.7ms\n",
      "148:\tlearn: 1771.3496209\ttotal: 1.91s\tremaining: 12.8ms\n",
      "149:\tlearn: 1770.6836218\ttotal: 1.92s\tremaining: 0us\n",
      "Raíz del error cuadrático medio de Árbol de CatBoostRegressor: 1871.6512924818217\n"
     ]
    },
    {
     "name": "stderr",
     "output_type": "stream",
     "text": [
      "c:\\Users\\chuch\\AppData\\Local\\Programs\\Python\\Python311\\Lib\\site-packages\\sklearn\\metrics\\_regression.py:483: FutureWarning: 'squared' is deprecated in version 1.4 and will be removed in 1.6. To calculate the root mean squared error, use the function'root_mean_squared_error'.\n",
      "  warnings.warn(\n"
     ]
    }
   ],
   "source": [
    "# Entrena el modelo con los mejores parámetros\n",
    "cat_model = CatBoostRegressor(loss_function='RMSE', learning_rate=0.5, iterations=150, random_state=seed).fit(X_train, y_train)\n",
    "y_pred_cat = cat_model.predict(X_valid)\n",
    "# Resultado\n",
    "print(\"Raíz del error cuadrático medio de Árbol de CatBoostRegressor:\", mean_squared_error(y_valid, y_pred_cat, squared=False))\n",
    "\n"
   ]
  },
  {
   "cell_type": "markdown",
   "metadata": {},
   "source": [
    "#### LightGBM"
   ]
  },
  {
   "cell_type": "code",
   "execution_count": null,
   "metadata": {},
   "outputs": [],
   "source": [
    "# Pasa el modelo por gridsearch\n",
    "lgb_grid = {\n",
    "    \"boosting_type\":['gbdt', 'dart'],\n",
    "    \"num_leaves\":[31],\n",
    "    \"learning_rate\":[0.5]\n",
    "}\n",
    "lgb_model = lgb.LGBMRegressor(metric='rmse', random_state=seed)\n",
    "lgb_gscv = GridSearchCV(lgb_model, param_grid=lgb_grid, verbose=50).fit(X_train, y_train)\n",
    "lgb_gscv.best_params_\n"
   ]
  },
  {
   "cell_type": "code",
   "execution_count": 35,
   "metadata": {},
   "outputs": [
    {
     "name": "stdout",
     "output_type": "stream",
     "text": [
      "[LightGBM] [Info] Auto-choosing row-wise multi-threading, the overhead of testing was 0.012013 seconds.\n",
      "You can set `force_row_wise=true` to remove the overhead.\n",
      "And if memory is not enough, you can set `force_col_wise=true`.\n",
      "[LightGBM] [Info] Total Bins 359\n",
      "[LightGBM] [Info] Number of data points in the train set: 120742, number of used features: 27\n",
      "[LightGBM] [Info] Start training from score 6093.285494\n",
      "Raíz del error cuadrático medio de Árbol de LGBRegressor: 1855.4355809084898\n"
     ]
    },
    {
     "name": "stderr",
     "output_type": "stream",
     "text": [
      "c:\\Users\\chuch\\AppData\\Local\\Programs\\Python\\Python311\\Lib\\site-packages\\sklearn\\metrics\\_regression.py:483: FutureWarning: 'squared' is deprecated in version 1.4 and will be removed in 1.6. To calculate the root mean squared error, use the function'root_mean_squared_error'.\n",
      "  warnings.warn(\n"
     ]
    }
   ],
   "source": [
    "# Entrena el modelo con los mejores parámetros\n",
    "lgb_model = lgb.LGBMRegressor(metric='rmse', boosting_type='gbdt', learning_rate=0.5, num_leaves=31, random_state=seed).fit(X_train, y_train)\n",
    "# Predice con el conjunto de validación\n",
    "y_pred_lgb = lgb_model.predict(X_valid)\n",
    "# Score\n",
    "print(\"Raíz del error cuadrático medio de Árbol de LGBRegressor:\", mean_squared_error(y_valid, y_pred_lgb, squared=False))\n",
    "\n"
   ]
  },
  {
   "cell_type": "markdown",
   "metadata": {},
   "source": [
    " ### Prueba el mejor modelo"
   ]
  },
  {
   "cell_type": "code",
   "execution_count": 36,
   "metadata": {},
   "outputs": [
    {
     "name": "stdout",
     "output_type": "stream",
     "text": [
      "Raíz del error cuadrático medio de Árbol de LGBRegressor para el conjunto de prueba: 1839.0408033354006\n"
     ]
    },
    {
     "name": "stderr",
     "output_type": "stream",
     "text": [
      "c:\\Users\\chuch\\AppData\\Local\\Programs\\Python\\Python311\\Lib\\site-packages\\sklearn\\metrics\\_regression.py:483: FutureWarning: 'squared' is deprecated in version 1.4 and will be removed in 1.6. To calculate the root mean squared error, use the function'root_mean_squared_error'.\n",
      "  warnings.warn(\n"
     ]
    }
   ],
   "source": [
    "y_pred_lgb_test = lgb_model.predict(X_test)\n",
    "# Score\n",
    "print(\"Raíz del error cuadrático medio de Árbol de LGBRegressor para el conjunto de prueba:\", mean_squared_error(y_test, y_pred_lgb_test, squared=False))"
   ]
  },
  {
   "cell_type": "markdown",
   "metadata": {},
   "source": [
    "## Conclusiones.\n",
    "\n",
    " - Podemos mejorar nuestros modelos limpiando de mejor manera nuestras características.\n",
    "\n",
    " - Teniendo en cuenta la velocidad y la calidad de la predicción de nuestros modelos, podríamos elegir entre LightGBM o XGBoost.\n",
    "\n",
    " - LightGBM por velocidad.\n",
    "\n",
    " - XGBBoost por calidad de predicción."
   ]
  }
 ],
 "metadata": {
  "kernelspec": {
   "display_name": "Python 3",
   "language": "python",
   "name": "python3"
  },
  "language_info": {
   "codemirror_mode": {
    "name": "ipython",
    "version": 3
   },
   "file_extension": ".py",
   "mimetype": "text/x-python",
   "name": "python",
   "nbconvert_exporter": "python",
   "pygments_lexer": "ipython3",
   "version": "3.11.2"
  }
 },
 "nbformat": 4,
 "nbformat_minor": 2
}
